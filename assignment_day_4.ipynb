{
  "nbformat": 4,
  "nbformat_minor": 0,
  "metadata": {
    "colab": {
      "name": "assignment day-4.ipynb",
      "provenance": [],
      "authorship_tag": "ABX9TyMPxTgS/Bnd0ULX1nlUcE3w",
      "include_colab_link": true
    },
    "kernelspec": {
      "name": "python3",
      "display_name": "Python 3"
    },
    "language_info": {
      "name": "python"
    }
  },
  "cells": [
    {
      "cell_type": "markdown",
      "metadata": {
        "id": "view-in-github",
        "colab_type": "text"
      },
      "source": [
        "<a href=\"https://colab.research.google.com/github/Lakhanpyare70/assignment-day4/blob/main/assignment_day_4.ipynb\" target=\"_parent\"><img src=\"https://colab.research.google.com/assets/colab-badge.svg\" alt=\"Open In Colab\"/></a>"
      ]
    },
    {
      "cell_type": "code",
      "metadata": {
        "colab": {
          "base_uri": "https://localhost:8080/"
        },
        "id": "SckrT2ixtVro",
        "outputId": "65daae6b-4c76-4cd5-8b93-ab99052e88fd"
      },
      "source": [
        "# Day 4 assignment\n",
        "a= 6000\n",
        "\n",
        "if  a>5000:\n",
        "    print(\"turn around\")\n",
        "elif a<5000 and a>1000:\n",
        "    print(\"bringing down to 1000 ft altitude\")\n",
        "else:\n",
        "    print(\"Safe to land\")"
      ],
      "execution_count": 3,
      "outputs": [
        {
          "output_type": "stream",
          "text": [
            "turn around\n"
          ],
          "name": "stdout"
        }
      ]
    }
  ]
}